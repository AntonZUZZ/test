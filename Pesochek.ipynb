{
  "nbformat": 4,
  "nbformat_minor": 0,
  "metadata": {
    "colab": {
      "provenance": [],
      "mount_file_id": "1fxv7V9jQ4UzoXNMPgXmRl2zxDtFcMAho",
      "authorship_tag": "ABX9TyPa+KQl0no1kYQvS2BelFYe",
      "include_colab_link": true
    },
    "kernelspec": {
      "name": "python3",
      "display_name": "Python 3"
    },
    "language_info": {
      "name": "python"
    }
  },
  "cells": [
    {
      "cell_type": "markdown",
      "metadata": {
        "id": "view-in-github",
        "colab_type": "text"
      },
      "source": [
        "<a href=\"https://colab.research.google.com/github/AntonZUZZ/test/blob/main/Pesochek.ipynb\" target=\"_parent\"><img src=\"https://colab.research.google.com/assets/colab-badge.svg\" alt=\"Open In Colab\"/></a>"
      ]
    },
    {
      "cell_type": "code",
      "source": [
        "# TODO:\n",
        "# канибализм\n",
        "# эффекты от наук\n",
        "# эффекты от религий (перекаты из религий, культы и прочее)\n",
        "# нац идеи\n",
        "\n",
        "# дальние преспективы TODO:\n",
        "# Gemini для создания персональных ивентов"
      ],
      "metadata": {
        "id": "IQI5RFIX3LVa"
      },
      "execution_count": 1,
      "outputs": []
    },
    {
      "cell_type": "markdown",
      "source": [
        "# Настройки"
      ],
      "metadata": {
        "id": "C1mX4KHipUzc"
      }
    },
    {
      "cell_type": "markdown",
      "source": [
        "Здесь помещены глобальные переменные, которые настраивают работу скрипта.\n",
        "Желательно ознакомится с ними"
      ],
      "metadata": {
        "id": "6nNCHBO4ttpg"
      }
    },
    {
      "cell_type": "code",
      "source": [
        "# Имя файла со статкой\n",
        "# Существующий файл заменится на новый после работы скрипта\n",
        "# Если файла не будет, то стату придется вбить руками\n",
        "NAME_OF_STAT_FILE = \"nation_test.json\""
      ],
      "metadata": {
        "id": "_rq_meFXm2fU"
      },
      "execution_count": 2,
      "outputs": []
    },
    {
      "cell_type": "markdown",
      "source": [
        "# Касты"
      ],
      "metadata": {
        "id": "SrwEh1uEMpWY"
      }
    },
    {
      "cell_type": "code",
      "source": [
        "# Список каст. При добавлении новой касты в игру, ее нужно добавить в этот список\n",
        "CAST_FARMERS = \"фермеры\"\n",
        "CAST_WORKERS = \"рабочие\"\n",
        "CAST_SOLDIERS = \"солдаты\"\n",
        "CAST_COMMONERS = \"обыватели\"\n",
        "CAST_TOWNFOLK = \"горожане\"\n",
        "CAST_INTELLECTUALS = \"интеллигенция\"\n",
        "CAST_OFFICIALS = \"чиновники\"\n",
        "\n",
        "BASE_CAST_LIST = [CAST_FARMERS, CAST_WORKERS, CAST_SOLDIERS, CAST_COMMONERS, CAST_TOWNFOLK, CAST_INTELLECTUALS, CAST_OFFICIALS]"
      ],
      "metadata": {
        "id": "6eH58iS-_HQy"
      },
      "execution_count": 3,
      "outputs": []
    },
    {
      "cell_type": "code",
      "source": [
        "# Базовая кастовка населения\n",
        "# Значения распределения для каждой касты из списка BASE_CAST_LIST\n",
        "# Если BASE_CAST_LIST = [\"фермеры\", \"рабочие\", \"солдаты\",  \"обыватели\", \"горожане\", \"интеллигенция\", \"чиновники\"]\n",
        "# А    BASE_CAST_DISTRIBUTION = [0.4, 0.22, 0.14, 0.1, 0.09, 0.05, 0]\n",
        "# То это означает, что у фермеров 40%, у рабочих 22% и тд\n",
        "BASE_CAST_DISTRIBUTION_LIST = [0.4, 0.22, 0.14, 0.1, 0.09, 0.05, 0]"
      ],
      "metadata": {
        "id": "7LtCwv8ezIFB"
      },
      "execution_count": 4,
      "outputs": []
    },
    {
      "cell_type": "markdown",
      "source": [
        "# Названия аттрибутов, эффектов и пр"
      ],
      "metadata": {
        "id": "5qTBwMHQQ6Pn"
      }
    },
    {
      "cell_type": "code",
      "source": [
        "# Названия аттрибутов\n",
        "ATTR_LOYALTY = \"loyalty\"\n",
        "ATTR_POPULATION = \"population\"\n",
        "ATTR_SLAVE_POPULATION = \"slave_population\""
      ],
      "metadata": {
        "id": "04Wo4s4Vhs0E"
      },
      "execution_count": 5,
      "outputs": []
    },
    {
      "cell_type": "code",
      "source": [
        "# Названия источеников эффектов\n",
        "SOURCE_MIGRATION = \"Миграция\""
      ],
      "metadata": {
        "id": "F81ccn2gOmfM"
      },
      "execution_count": 6,
      "outputs": []
    },
    {
      "cell_type": "code",
      "source": [
        "# Названия эффектов\n",
        "\n",
        "# Прирост лояльности задается в дробных числах\n",
        "SETTING_LOYALTY_GROWTH = \"loyalty_growth\"\n",
        "\n",
        "# Рождаемость задается в процентах от популяци\n",
        "SETTING_BIRTH_RATE = \"birth_rate\"\n",
        "\n",
        "# slave_birth_yes - Если есть такая настройка, то рабы работают начинают приростать\n",
        "SETTING_SLAVE_BIRTH_YES = \"slave_birth_yes\"\n",
        "\n",
        "# Миграция оказывает следующие эффекты на нацию:\n",
        "# Каждый пункт миграции даёт или отнимает рождаемость у поселения(1=1).\n",
        "# Каждый пункт отрицательной миграции даёт +2 прод. Обывателям и -3 приоритета.\n",
        "# Каждый пункт положительной миграции даёт -1 лояльность в ход(если у расы есть угнетение меньшинств, то -2 лояльности в ход), -1 ассимиляцию и +3 приоритета.\n",
        "SETTING_MIGRATION = \"migration\"\n",
        "\n",
        "# TODO\n",
        "SETTING_PRIORITY = \"priority\"\n",
        "\n",
        "# TODO\n",
        "SETTING_PROD_COMMONER = \"prod.commoner\""
      ],
      "metadata": {
        "id": "g7dgE_XEO50x"
      },
      "execution_count": 7,
      "outputs": []
    },
    {
      "cell_type": "markdown",
      "source": [
        "# Эффекты"
      ],
      "metadata": {
        "id": "ViWSLDeRRHyH"
      }
    },
    {
      "cell_type": "code",
      "source": [
        "DEFAULT_EFFECTS = [\n",
        "\n",
        "    # Эффекты состоят из трех компонентов:\n",
        "    #   \"source\" - текстовое описание источника,\n",
        "    #   \"setting\" - значение эффекта,\n",
        "    #   \"value\" - числовое значение, используемое для применения эффекта (если не нужно, то None)\n",
        "    #   \"duration\" - целое число, отражающее длительность. Отрицательное означает перманентный эффект.\n",
        "\n",
        "    ### Дефолтные приросты\n",
        "    {\"source\": \"Базовая лояльность\", \"setting\": SETTING_LOYALTY_GROWTH, \"value\": 0, \"duration\": -1},\n",
        "    {\"source\": \"Базовая рождаемость\", \"setting\": SETTING_BIRTH_RATE, \"value\": 10, \"duration\": -1},\n",
        "    {\"source\": \"Базовая миграция\", \"setting\": SETTING_MIGRATION, \"value\": 1, \"duration\": -1},\n",
        "\n",
        "    ### Эффекты наук\n",
        "    # {\"source\": \"Наука о рабах\", \"setting\": SETTING_SLAVE_BIRTH_YES, \"value\": None, \"duration\": -1}\n",
        "]"
      ],
      "metadata": {
        "id": "qUOCyJXTBH4q"
      },
      "execution_count": 8,
      "outputs": []
    },
    {
      "cell_type": "markdown",
      "source": [
        "# Структура"
      ],
      "metadata": {
        "id": "VaC1ZZiIpZ6p"
      }
    },
    {
      "cell_type": "code",
      "source": [
        "import math"
      ],
      "metadata": {
        "id": "OE2JgFo_xiTZ"
      },
      "execution_count": 9,
      "outputs": []
    },
    {
      "cell_type": "code",
      "source": [
        "# Функция для генерации словаря базового распределения по кастам\n",
        "def generate_base_cast_distribution(cast_list, cast_values):\n",
        "    if len(cast_list) != len(cast_values):\n",
        "        raise ValueError(f\"Длины списков не совпадают: {len(cast_list)} (касты) vs {len(cast_values)} (значения)\")\n",
        "    return dict(zip(cast_list, cast_values))\n",
        "BASE_CAST_DISTRIBUTION = generate_base_cast_distribution(BASE_CAST_LIST, BASE_CAST_DISTRIBUTION_LIST)"
      ],
      "metadata": {
        "id": "G0cdIV2iDFnu"
      },
      "execution_count": 10,
      "outputs": []
    },
    {
      "cell_type": "code",
      "source": [
        "class Nation:\n",
        "    def __init__(self, population, slave_population, loyalty, priority, race, religion):\n",
        "        if not isinstance(population, dict):\n",
        "            raise ValueError(\"ERROR: Population must be provided as a dictionary of casts\")\n",
        "        self.race = race\n",
        "        self.religion = religion\n",
        "        self.effects = DEFAULT_EFFECTS.copy()\n",
        "        self.attributes = {\n",
        "            ATTR_POPULATION: {\"value\": population, \"growth\": 0},\n",
        "            ATTR_SLAVE_POPULATION: {\"value\": slave_population, \"growth\": 0},\n",
        "            ATTR_LOYALTY: {\"value\": loyalty, \"growth\": 0},\n",
        "            \"priority\": {cast: 0 for cast in BASE_CAST_DISTRIBUTION},\n",
        "            \"current_cast_distribution\": BASE_CAST_DISTRIBUTION.copy()\n",
        "        }\n",
        "\n",
        "    # Проверка - установлен эффект\n",
        "    def has_passive_effect(self, setting):\n",
        "        return any(effect[\"setting\"] == setting for effect in self.effects)\n",
        "    # Подсчет значения эффекта\n",
        "    def calculate_effect(self, name):\n",
        "        return sum(effect['value'] for effect in self.effects if effect['setting'] == name)\n",
        "    # Добавить пассивный эффект\n",
        "    def add_passive_effect(self, source, setting, value):\n",
        "        self.effects.append({\"source\": source, \"setting\": setting, \"value\": value})\n",
        "        self.calculate_attributes_growth()\n",
        "    # Удалить эффекты источника\n",
        "    def remove_effects_by_source(self, source):\n",
        "        self.effects = [effect for effect in self.effects if effect[\"source\"] != source]\n",
        "        self.calculate_attributes_growth()\n",
        "\n",
        "    # Рассчет приростов аттрибутов\n",
        "    def calculate_attributes_growth(self):\n",
        "        self.migration_effect_update()\n",
        "\n",
        "        for attr in self.attributes:\n",
        "            if attr == ATTR_LOYALTY:\n",
        "                self.attributes[attr]['growth'] = self.calculate_effect(SETTING_LOYALTY_GROWTH)\n",
        "            if attr == ATTR_POPULATION:\n",
        "                self.attributes[attr]['growth'] = self.get_total_population() * (self.calculate_effect(SETTING_BIRTH_RATE) / 100)\n",
        "            if attr == ATTR_SLAVE_POPULATION:\n",
        "                if (self.has_passive_effect(SETTING_SLAVE_BIRTH_YES)):\n",
        "                    self.attributes[attr]['growth'] = self.attributes[attr]['value'] * (self.calculate_effect(SETTING_BIRTH_RATE) / 100)\n",
        "                else:\n",
        "                    self.attributes[attr]['growth'] = 0\n",
        "\n",
        "    # Влияние текущей миграции\n",
        "    def migration_effect_update(self):\n",
        "        self.remove_effects_by_source(SOURCE_MIGRATION)\n",
        "        migration = self.calculate_effect(SETTING_MIGRATION)\n",
        "\n",
        "        # Каждый пункт миграции даёт или отнимает рождаемость у поселения(1=1).\n",
        "        self.add_passive_effect(SOURCE_MIGRATION, SETTING_BIRTH_RATE, migration)\n",
        "\n",
        "        # Каждый пункт отрицательной миграции даёт +2 прод. Обывателям и -3 приоритета.\n",
        "        if (migration < 0):\n",
        "            self.add_passive_effect(SOURCE_MIGRATION, SETTING_PRIORITY, -3 * abs(migration))\n",
        "            self.add_passive_effect(SOURCE_MIGRATION, SETTING_PROD_COMMONER, 2 * abs(migration))\n",
        "\n",
        "        # Каждый пункт положительной миграции даёт -1 лояльность в ход(если у расы есть угнетение меньшинств, то -2 лояльности в ход), -1 ассимиляцию и +3 приоритета.\n",
        "        if (migration[\"birth_rate\"] > 0):\n",
        "            #TODO \"угнетение меньшинств\"\n",
        "            #TODO\n",
        "            print(\"TODO\")\n",
        "\n",
        "    # Суммарное население всех каст\n",
        "    def get_total_population(self):\n",
        "          return sum(self.attributes[ATTR_POPULATION]['value'].values())\n",
        "\n",
        "    # Добавить население рабов\n",
        "    def add_slave_population(self, new_slave):\n",
        "        self.attributes[ATTR_SLAVE_POPULATION]['value'] += new_slave\n",
        "\n",
        "    # Добавить население кастовое\n",
        "    def add_population(self, count):\n",
        "        initial_population = self.get_total_population()\n",
        "\n",
        "        # Распределение нового населения по текущей кастовке\n",
        "        for caste in self.attributes['current_cast_distribution']:\n",
        "            caste_percentage = self.attributes['current_cast_distribution'][caste]\n",
        "            additional_population = int(count * caste_percentage)\n",
        "            self.attributes[ATTR_POPULATION]['value'][caste] += additional_population\n",
        "\n",
        "        # Корректировка отрицательного прироста населения\n",
        "        while any(pop < 0 for pop in self.attributes[ATTR_POPULATION]['value'].values()):\n",
        "            for caste in self.attributes[ATTR_POPULATION]['value']:\n",
        "                if self.attributes[ATTR_POPULATION]['value'][caste] < 0:\n",
        "                    negative_population = self.attributes[ATTR_POPULATION]['value'][caste]\n",
        "                    self.attributes[ATTR_POPULATION]['value'][caste] = 0\n",
        "                    positive_castes = [c for c in self.attributes[ATTR_POPULATION]['value'] if c != caste and self.attributes[ATTR_POPULATION]['value'][c] > 0]\n",
        "                    negative_growth_per_caste = math.ceil(abs(negative_population) / len(positive_castes))\n",
        "                    for rc in positive_castes:\n",
        "                        self.attributes[ATTR_POPULATION]['value'][rc] = self.attributes[ATTR_POPULATION]['value'][rc] - negative_growth_per_caste\n",
        "\n",
        "        # Корректировка для устранения несоответствия в общем приросте населения.\n",
        "        # Остатки равномерно (буквально по единичке) распределяем между всеми ненулевыми кастами\n",
        "        # Это нужный костыль, ибо из-за округлений может происходить всякая хрень\n",
        "        while sum(self.attributes[ATTR_POPULATION]['value'].values()) != initial_population + count:\n",
        "            for caste in positive_castes:\n",
        "                if sum(self.attributes[ATTR_POPULATION]['value'].values()) == initial_population + count:\n",
        "                    break\n",
        "                self.attributes[ATTR_POPULATION]['value'][caste] += 1\n",
        "\n",
        "    def apply_priority(self):\n",
        "        total_priority = sum(self.attributes[\"priority\"].values())\n",
        "\n",
        "        for cast in BASE_CAST_DISTRIBUTION:\n",
        "            base_value = BASE_CAST_DISTRIBUTION[cast]\n",
        "            priority_bonus = self.attributes[\"priority\"][cast]\n",
        "            self.attributes[\"current_cast_distribution\"][cast] = base_value * (1 - total_priority) + priority_bonus\n",
        "\n",
        "    # Выводим в строку информацию о нашей нации.\n",
        "    def __str__(self):\n",
        "        # Формирование строки для населения по кастам\n",
        "        population_str = \"\\n\".join([f\"{cast}: {self.attributes[ATTR_POPULATION]['value'][cast]}\" for cast in self.attributes[ATTR_POPULATION]['value']])\n",
        "        # Формирование строки для рабов\n",
        "        slave_population_str = \"\\n\".join([f\"{self.attributes[ATTR_SLAVE_POPULATION]['value']}\"])\n",
        "        # Формирование строки для приоритетов\n",
        "        priority_str = \"\\n\".join([f\"{cast}: {self.attributes['priority'][cast]*100}%\" for cast in self.attributes['priority']])\n",
        "        # Формирование строки для текущей кастовки\n",
        "        current_cast_dist_str = \"\\n\".join([f\"{cast}: {self.attributes['current_cast_distribution'][cast]*100}%\" for cast in self.attributes['current_cast_distribution']])\n",
        "        # Эффекты нации\n",
        "        effects_str = \"\\nЭффекты:\\n\"\n",
        "        for e in self.effects:\n",
        "            source = e['source']\n",
        "            setting = e['setting']\n",
        "            value = e['value']\n",
        "            effects_str += f\"\\\"{source}\\\" дает эффект \\\"{setting}\\\" в значении {value}\\n\"\n",
        "\n",
        "        return (f\"Информация о нации:\\n\"\n",
        "                f\"Раса: {self.race}\\n\"\n",
        "                f\"Религия: {self.religion}\\n\"\n",
        "                f\"Общее население: {self.get_total_population()}\\n\"\n",
        "                f\"Лояльность: {self.attributes[ATTR_LOYALTY]['value']} (+{self.attributes[ATTR_LOYALTY]['growth']})\\n\"\n",
        "                f\"Население (по кастам):\\n{population_str}\\n\"\n",
        "                f\"Рабы: {slave_population_str}\\n\"\n",
        "                f\"Текущие приоритеты (в %):\\n{priority_str}\\n\"\n",
        "                f\"Текущая кастовка (в %):\\n{current_cast_dist_str}\\n\"\n",
        "                f\"\\n{effects_str}\\n\")\n"
      ],
      "metadata": {
        "id": "5ncujS2gmW3k"
      },
      "execution_count": 11,
      "outputs": []
    },
    {
      "cell_type": "code",
      "source": [
        "#Функция создания дефолтной нации (только для тестирования)\n",
        "def create_nation():\n",
        "    # while True:\n",
        "    #     try:\n",
        "    #         population = int(input(\"Enter population: \"))\n",
        "    #         loyalty = int(input(\"Enter loyalty: \"))\n",
        "    #         birth_rate = float(input(\"Enter birth rate: \"))\n",
        "    #         break\n",
        "    #     except ValueError:\n",
        "    #         print(\"Invalid input. Please enter numeric values for population, loyalty, and birth rate.\")\n",
        "\n",
        "    # race = input(\"Enter race: \")\n",
        "    # religion = input(\"Enter religion: \")\n",
        "\n",
        "    # return Nation(population, loyalty, birth_rate, race, religion)\n",
        "\n",
        "    # Генерация начального населения для каждой касты\n",
        "    initial_population = {cast: 10000 for cast in BASE_CAST_LIST}\n",
        "    # Создание объекта нации\n",
        "    my_nation = Nation(\n",
        "        population=initial_population,\n",
        "        slave_population = 1000,\n",
        "        loyalty=50,\n",
        "        priority={cast: 0 for cast in BASE_CAST_DISTRIBUTION},\n",
        "        race=\"Human\",\n",
        "        religion=\"Polytheism\"\n",
        "    )\n",
        "    return my_nation"
      ],
      "metadata": {
        "id": "7-RGmPetFdBd"
      },
      "execution_count": 12,
      "outputs": []
    },
    {
      "cell_type": "markdown",
      "source": [
        "# Утилитатрное"
      ],
      "metadata": {
        "id": "OxcIfQX8ph-8"
      }
    },
    {
      "cell_type": "code",
      "source": [
        "import json\n",
        "\n",
        "# функции чтения и записи статистики\n",
        "def read_stats(filename):\n",
        "    try:\n",
        "        with open(filename, 'r') as file:\n",
        "            data = json.load(file)\n",
        "            return Nation(**data)\n",
        "    except FileNotFoundError:\n",
        "        print(\"File not found.\")\n",
        "        return None\n",
        "\n",
        "def save_stats(settlement, filename):\n",
        "    with open(filename, 'w') as file:\n",
        "        json.dump(settlement.__dict__, file)"
      ],
      "metadata": {
        "id": "ZbMcwp8QpMPM"
      },
      "execution_count": 13,
      "outputs": []
    },
    {
      "cell_type": "markdown",
      "source": [
        "# Функции пользователя"
      ],
      "metadata": {
        "id": "39i7w3CSsabt"
      }
    },
    {
      "cell_type": "code",
      "source": [
        "    # print()\n",
        "    # print(\"Данные о песочной нации получены!\")\n",
        "    # print(\"Приступаем к действиям!\")\n",
        "\n",
        "    # while True:\n",
        "    #     action = input(\"Enter an NOT permanent action (\\\"exit\\\" to exit): \")\n",
        "    #     if action == \"exit\":\n",
        "    #         break\n",
        "    #     nation.apply_not_permanent_action(action)\n",
        "\n",
        "    # nation.update()\n",
        "    # save_stats(nation, NAME_OF_STAT_FILE)"
      ],
      "metadata": {
        "id": "dN0mbIAXsGG6"
      },
      "execution_count": 14,
      "outputs": []
    },
    {
      "cell_type": "code",
      "execution_count": 15,
      "metadata": {
        "id": "Uhf_rFvRlMXT"
      },
      "outputs": [],
      "source": [
        "# Функция получения статки Нации\n",
        "def get_nation():\n",
        "    nation = read_stats(NAME_OF_STAT_FILE)\n",
        "    if nation is None:\n",
        "        nation = create_nation()\n",
        "    return nation"
      ]
    },
    {
      "cell_type": "code",
      "source": [
        "# Функция для установки приоритета для касты\n",
        "#TODO: Нужно выставлять приоритет у всех каст разом. Нельзя отрицательный\n",
        "def set_priority(nation, cast, priority_value):\n",
        "    if cast not in nation.attributes[\"priority\"]:\n",
        "        raise ValueError(f\"Неверное название касты: {cast}\")\n",
        "    #TODO: Проверка что он может такой приоритет выставить\n",
        "    nation.attributes[\"priority\"][cast] = priority_value\n",
        "    nation.apply_priority()"
      ],
      "metadata": {
        "id": "Kkcr85pXZo-F"
      },
      "execution_count": 16,
      "outputs": []
    },
    {
      "cell_type": "code",
      "source": [
        "# Функция сохранения нации в файл\n",
        "def save_nation(nation):\n",
        "    save_stats(nation, NAME_OF_STAT_FILE)"
      ],
      "metadata": {
        "id": "HmNQ2qvZvxeK"
      },
      "execution_count": 17,
      "outputs": []
    },
    {
      "cell_type": "code",
      "source": [
        "# Функция прибавки населения за ход\n",
        "def grow_population(nation):\n",
        "    nation.add_population(nation.attributes['population']['growth'])\n",
        "    nation.add_slave_population(nation.attributes['slave_population']['growth'])"
      ],
      "metadata": {
        "id": "_euS3-yMl20U"
      },
      "execution_count": 18,
      "outputs": []
    },
    {
      "cell_type": "code",
      "source": [
        "# Обновление статки. Совершение хода.\n",
        "def update(nation):\n",
        "    nation.calculate_attributes_growth()\n",
        "\n",
        "    # прирост населения в этом ходу\n",
        "    grow_population(nation)"
      ],
      "metadata": {
        "id": "ZFjLW8yglonm"
      },
      "execution_count": 19,
      "outputs": []
    },
    {
      "cell_type": "markdown",
      "source": [
        "# Основной функционал с примерами"
      ],
      "metadata": {
        "id": "_VMZzXH9poIP"
      }
    },
    {
      "cell_type": "code",
      "source": [
        "nation = get_nation()"
      ],
      "metadata": {
        "colab": {
          "base_uri": "https://localhost:8080/"
        },
        "id": "ZuuIbYU5wKKo",
        "outputId": "aee5d259-410d-4d11-88a7-cb065bbfe477"
      },
      "execution_count": 20,
      "outputs": [
        {
          "output_type": "stream",
          "name": "stdout",
          "text": [
            "File not found.\n"
          ]
        }
      ]
    },
    {
      "cell_type": "code",
      "source": [
        "# Просмотр статки\n",
        "print(nation)"
      ],
      "metadata": {
        "colab": {
          "base_uri": "https://localhost:8080/"
        },
        "id": "JP9s1n3hpndv",
        "outputId": "9ddc7183-c6d7-48b0-ebbe-f7be5771b884"
      },
      "execution_count": 21,
      "outputs": [
        {
          "output_type": "stream",
          "name": "stdout",
          "text": [
            "Информация о нации:\n",
            "Раса: Human\n",
            "Религия: Polytheism\n",
            "Общее население: 70000\n",
            "Лояльность: 50 (+0)\n",
            "Население (по кастам):\n",
            "фермеры: 10000\n",
            "рабочие: 10000\n",
            "солдаты: 10000\n",
            "обыватели: 10000\n",
            "горожане: 10000\n",
            "интеллигенция: 10000\n",
            "чиновники: 10000\n",
            "Рабы: 1000\n",
            "Текущие приоритеты (в %):\n",
            "фермеры: 0%\n",
            "рабочие: 0%\n",
            "солдаты: 0%\n",
            "обыватели: 0%\n",
            "горожане: 0%\n",
            "интеллигенция: 0%\n",
            "чиновники: 0%\n",
            "Текущая кастовка (в %):\n",
            "фермеры: 40.0%\n",
            "рабочие: 22.0%\n",
            "солдаты: 14.000000000000002%\n",
            "обыватели: 10.0%\n",
            "горожане: 9.0%\n",
            "интеллигенция: 5.0%\n",
            "чиновники: 0%\n",
            ":\n",
            "\n",
            "Эффекты:\n",
            "\"Базовая лояльность\" дает эффект \"loyalty_growth\" в значении 0\n",
            "\"Базовая рождаемость\" дает эффект \"birth_rate\" в значении 10\n",
            "\"Базовая миграция\" дает эффект \"migration\" в значении 1\n",
            "\n",
            "\n"
          ]
        }
      ]
    },
    {
      "cell_type": "code",
      "source": [
        "# Установка приоритета и просмотр статки\n",
        "set_priority(nation, \"фермеры\", 0.4)\n",
        "set_priority(nation, \"солдаты\", -0.4)\n",
        "print(nation)"
      ],
      "metadata": {
        "colab": {
          "base_uri": "https://localhost:8080/"
        },
        "id": "1qScpyeBZ-ko",
        "outputId": "815ef8f7-aa59-4ae5-8c13-835ec3952b6a"
      },
      "execution_count": 22,
      "outputs": [
        {
          "output_type": "stream",
          "name": "stdout",
          "text": [
            "Информация о нации:\n",
            "Раса: Human\n",
            "Религия: Polytheism\n",
            "Общее население: 70000\n",
            "Лояльность: 50 (+0)\n",
            "Население (по кастам):\n",
            "фермеры: 10000\n",
            "рабочие: 10000\n",
            "солдаты: 10000\n",
            "обыватели: 10000\n",
            "горожане: 10000\n",
            "интеллигенция: 10000\n",
            "чиновники: 10000\n",
            "Рабы: 1000\n",
            "Текущие приоритеты (в %):\n",
            "фермеры: 40.0%\n",
            "рабочие: 0%\n",
            "солдаты: -40.0%\n",
            "обыватели: 0%\n",
            "горожане: 0%\n",
            "интеллигенция: 0%\n",
            "чиновники: 0%\n",
            "Текущая кастовка (в %):\n",
            "фермеры: 80.0%\n",
            "рабочие: 22.0%\n",
            "солдаты: -26.0%\n",
            "обыватели: 10.0%\n",
            "горожане: 9.0%\n",
            "интеллигенция: 5.0%\n",
            "чиновники: 0.0%\n",
            ":\n",
            "\n",
            "Эффекты:\n",
            "\"Базовая лояльность\" дает эффект \"loyalty_growth\" в значении 0\n",
            "\"Базовая рождаемость\" дает эффект \"birth_rate\" в значении 10\n",
            "\"Базовая миграция\" дает эффект \"migration\" в значении 1\n",
            "\n",
            "\n"
          ]
        }
      ]
    },
    {
      "cell_type": "code",
      "source": [
        "grow_population(nation)\n",
        "print(nation)"
      ],
      "metadata": {
        "colab": {
          "base_uri": "https://localhost:8080/"
        },
        "id": "Y6SupBj7pV0I",
        "outputId": "bb20e4fd-a9c6-45dd-e92a-0a30f96e2e60"
      },
      "execution_count": 23,
      "outputs": [
        {
          "output_type": "stream",
          "name": "stdout",
          "text": [
            "Информация о нации:\n",
            "Раса: Human\n",
            "Религия: Polytheism\n",
            "Общее население: 70000\n",
            "Лояльность: 50 (+0)\n",
            "Население (по кастам):\n",
            "фермеры: 10000\n",
            "рабочие: 10000\n",
            "солдаты: 10000\n",
            "обыватели: 10000\n",
            "горожане: 10000\n",
            "интеллигенция: 10000\n",
            "чиновники: 10000\n",
            "Рабы: 1000\n",
            "Текущие приоритеты (в %):\n",
            "фермеры: 40.0%\n",
            "рабочие: 0%\n",
            "солдаты: -40.0%\n",
            "обыватели: 0%\n",
            "горожане: 0%\n",
            "интеллигенция: 0%\n",
            "чиновники: 0%\n",
            "Текущая кастовка (в %):\n",
            "фермеры: 80.0%\n",
            "рабочие: 22.0%\n",
            "солдаты: -26.0%\n",
            "обыватели: 10.0%\n",
            "горожане: 9.0%\n",
            "интеллигенция: 5.0%\n",
            "чиновники: 0.0%\n",
            ":\n",
            "\n",
            "Эффекты:\n",
            "\"Базовая лояльность\" дает эффект \"loyalty_growth\" в значении 0\n",
            "\"Базовая рождаемость\" дает эффект \"birth_rate\" в значении 10\n",
            "\"Базовая миграция\" дает эффект \"migration\" в значении 1\n",
            "\n",
            "\n"
          ]
        }
      ]
    },
    {
      "cell_type": "code",
      "source": [
        "# Сохранение статки в файл\n",
        "# save_nation(nation)"
      ],
      "metadata": {
        "id": "BneAqIVfwC_5"
      },
      "execution_count": 24,
      "outputs": []
    },
    {
      "cell_type": "code",
      "source": [],
      "metadata": {
        "id": "V9QSs83gwZ-e"
      },
      "execution_count": 24,
      "outputs": []
    }
  ]
}